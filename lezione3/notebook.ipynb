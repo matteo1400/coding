{
 "cells": [
  {
   "cell_type": "code",
   "execution_count": 2,
   "metadata": {},
   "outputs": [
    {
     "name": "stdout",
     "output_type": "stream",
     "text": [
      "il numero è più alto\n",
      "il numero è più basso\n",
      "il numero è più basso\n",
      "bravo hai indovinato in 4 tentativi!\n"
     ]
    }
   ],
   "source": [
    "import random \n",
    "\n",
    "n = (random.randint(1, 100))\n",
    "\n",
    "win = False\n",
    "\n",
    "tries = 0\n",
    "\n",
    "while not win:\n",
    "    number = int(input(\"indovina il numero: \"))\n",
    "    tries += 1\n",
    "    if number < n:\n",
    "        print(\"il numero è più alto\") \n",
    "    elif number > n:\n",
    "        print(\"il numero è più basso\")\n",
    "    else:\n",
    "        win = True\n",
    "        print(f\"bravo hai indovinato in {tries} tentativi!\")"
   ]
  },
  {
   "cell_type": "code",
   "execution_count": 8,
   "metadata": {},
   "outputs": [
    {
     "name": "stdout",
     "output_type": "stream",
     "text": [
      "True\n"
     ]
    }
   ],
   "source": [
    "class Rectangle:\n",
    "    def __init__(self, b, h):\n",
    "        self.b = b\n",
    "        self.h = h\n",
    "\n",
    "    def perimeter(self):\n",
    "        return 2 * (self.b + self.h)\n",
    "    \n",
    "    def area(self):\n",
    "        return self.b * self.h \n",
    "    \n",
    "    def is_equivalent(self, rect):\n",
    "        if self.area() == rect.area():\n",
    "            return True\n",
    "        return False\n",
    "\n",
    "rect1 = Rectangle(2, 3)\n",
    "rect2 = Rectangle(3, 2)\n",
    "print(rect1.is_equivalent(rect2))\n"
   ]
  },
  {
   "cell_type": "code",
   "execution_count": 10,
   "metadata": {},
   "outputs": [],
   "source": [
    "import random\n",
    "\n",
    "class GuessTheNumber:\n",
    "    def __init__(self):\n",
    "        self.n = random.randint(1, 100)\n",
    "        self.win = False\n",
    "\n",
    "    def guess(self, number):\n",
    "        if number == self.n:\n",
    "            self.win = True \n",
    "            print(\"bravo hai indovinato\")\n",
    "        elif number > self.n:\n",
    "            print(\"troppo grande\")\n",
    "        else:\n",
    "            print(\"troppo piccolo\")\n",
    "\n",
    "\n",
    "    def play(self):\n",
    "        while not self.win:\n",
    "            number = int(input(\"dimmi un mumero: \"))\n",
    "            self.guess(number)"
   ]
  },
  {
   "cell_type": "code",
   "execution_count": 11,
   "metadata": {},
   "outputs": [
    {
     "name": "stdout",
     "output_type": "stream",
     "text": [
      "troppo piccolo\n",
      "troppo piccolo\n",
      "troppo piccolo\n",
      "troppo grande\n",
      "troppo piccolo\n",
      "bravo hai indovinato\n"
     ]
    }
   ],
   "source": [
    "game = GuessTheNumber()\n",
    "game.play()"
   ]
  }
 ],
 "metadata": {
  "kernelspec": {
   "display_name": "Python 3",
   "language": "python",
   "name": "python3"
  },
  "language_info": {
   "codemirror_mode": {
    "name": "ipython",
    "version": 3
   },
   "file_extension": ".py",
   "mimetype": "text/x-python",
   "name": "python",
   "nbconvert_exporter": "python",
   "pygments_lexer": "ipython3",
   "version": "3.12.1"
  }
 },
 "nbformat": 4,
 "nbformat_minor": 2
}
